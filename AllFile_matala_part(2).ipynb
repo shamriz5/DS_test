{
 "cells": [
  {
   "cell_type": "markdown",
   "metadata": {},
   "source": [
    "## matala 5 -\n",
    "## final project (1) -\n",
    "## final project (2) -\n",
    "# מה ישלך הכל טוב תעשה קונטרול אף :)"
   ]
  },
  {
   "cell_type": "code",
   "execution_count": 1,
   "metadata": {},
   "outputs": [],
   "source": [
    "import pandas as pd \n",
    "import statistics \n",
    "import numpy as np\n",
    "import seaborn as sns\n",
    "import matplotlib.pyplot as plt"
   ]
  },
  {
   "cell_type": "markdown",
   "metadata": {},
   "source": [
    "# matala 5"
   ]
  },
  {
   "cell_type": "code",
   "execution_count": 2,
   "metadata": {},
   "outputs": [],
   "source": [
    "import pandas as pd\n",
    "import numpy as np\n",
    "import matplotlib.pyplot as plt\n",
    "import seaborn as sns\n",
    "import sklearn as sk\n",
    "from sklearn import tree\n",
    "from sklearn.tree import DecisionTreeClassifier\n",
    "from sklearn.model_selection import train_test_split\n",
    "from sklearn.metrics import mean_squared_error as mse\n"
   ]
  },
  {
   "cell_type": "markdown",
   "metadata": {},
   "source": [
    "Uncomment in case two students are doing the assignment together:"
   ]
  },
  {
   "cell_type": "code",
   "execution_count": null,
   "metadata": {},
   "outputs": [],
   "source": [
    "url = 'https://raw.githubusercontent.com/nlihin/data-analytics/main/datasets/avocado.csv'\n",
    "data = pd.read_csv(url)\n",
    "data.head()"
   ]
  },
  {
   "cell_type": "code",
   "execution_count": null,
   "metadata": {},
   "outputs": [],
   "source": [
    "data.dtypes"
   ]
  },
  {
   "cell_type": "markdown",
   "metadata": {},
   "source": [
    "# Q1 "
   ]
  },
  {
   "cell_type": "markdown",
   "metadata": {},
   "source": [
    "**ניצור פיבבוט טייבל שהאינדקסים שלה הם השנה והאזור והערכים שלה הם המכירות בסה\"כ**"
   ]
  },
  {
   "cell_type": "code",
   "execution_count": null,
   "metadata": {},
   "outputs": [],
   "source": [
    "pd.pivot_table(\n",
    "    data,index = ['region',\"year\"], values = ['total_sold'],aggfunc='sum').head(10)\n"
   ]
  },
  {
   "cell_type": "markdown",
   "metadata": {},
   "source": [
    "# Q2"
   ]
  },
  {
   "cell_type": "markdown",
   "metadata": {},
   "source": [
    "**יצרנו דאטה חדש עם האזור דטרויט ובנוסף לקחנו רק נתונים מ2016**"
   ]
  },
  {
   "cell_type": "code",
   "execution_count": null,
   "metadata": {},
   "outputs": [],
   "source": [
    "new_data=data.loc[data[\"region\"].str.contains('Detroit')].copy()\n",
    "new_data=new_data[new_data[\"year\"]==2016  ]\n",
    "new_data.tail()"
   ]
  },
  {
   "cell_type": "markdown",
   "metadata": {},
   "source": [
    "# Q3"
   ]
  },
  {
   "cell_type": "markdown",
   "metadata": {},
   "source": [
    "**ממוצע של המכירות הכוללות בדאטה החדש**"
   ]
  },
  {
   "cell_type": "code",
   "execution_count": null,
   "metadata": {},
   "outputs": [],
   "source": [
    "new_data[\"total_sold\"].mean()"
   ]
  },
  {
   "cell_type": "markdown",
   "metadata": {},
   "source": [
    "# Q4"
   ]
  },
  {
   "cell_type": "markdown",
   "metadata": {},
   "source": [
    "ניצור עמודה חדשה ונכניס אליה את החודשים אחר כך נבחר את החודש הרצוי ואת העמודה הרצויה ונסכום"
   ]
  },
  {
   "cell_type": "code",
   "execution_count": null,
   "metadata": {},
   "outputs": [],
   "source": [
    "new_data['month'] = pd.DatetimeIndex(new_data.Date).month\n",
    "new_data.loc[new_data[\"month\"]==9][\"Total Bags\"].sum()"
   ]
  },
  {
   "cell_type": "markdown",
   "metadata": {},
   "source": [
    "# Q5"
   ]
  },
  {
   "cell_type": "markdown",
   "metadata": {},
   "source": [
    "**ניצור פיבוט טייבל לפי הסוג והמכירות הכלליות ואז ניצור לו בר לפוט **"
   ]
  },
  {
   "cell_type": "code",
   "execution_count": null,
   "metadata": {},
   "outputs": [],
   "source": [
    "sns.set(style='darkgrid',font_scale=1.6)\n",
    "sns.barplot(x=\"type\" ,y=\"total_sold\", hue=\"type\",estimator = sum,data=data)"
   ]
  },
  {
   "cell_type": "markdown",
   "metadata": {},
   "source": [
    "# Q6"
   ]
  },
  {
   "cell_type": "markdown",
   "metadata": {},
   "source": [
    "**ראשית נעביר את עמודצת הסוג לערכים מספריים על מנת שנוכל לעבוד איתה**"
   ]
  },
  {
   "cell_type": "code",
   "execution_count": null,
   "metadata": {},
   "outputs": [],
   "source": [
    "data[\"type\"]=data[\"type\"].astype(\"category\").cat.codes\n"
   ]
  },
  {
   "cell_type": "markdown",
   "metadata": {},
   "source": [
    "**ניצור קורלציה בין העמודות המבוקשות**"
   ]
  },
  {
   "cell_type": "code",
   "execution_count": null,
   "metadata": {},
   "outputs": [],
   "source": [
    "features = ['total_sold', 'Total Bags', 'AveragePrice', 'type']\n",
    "\n",
    "# continue here\n",
    "corr=data[features].corr(method='spearman').copy()\n",
    "corr\n",
    "fig = plt.figure()\n",
    "plt.figure(figsize=(12,7))\n",
    "sns.heatmap(corr, cmap='coolwarm', center=0, annot = True)"
   ]
  },
  {
   "cell_type": "markdown",
   "metadata": {},
   "source": [
    "**ניתן לראות שהקורלציה בין המכירות של אבוקדו לבין שקים היא הכי גבוה לכן נשתמש בה לסעיף הבא**"
   ]
  },
  {
   "cell_type": "markdown",
   "metadata": {},
   "source": [
    "# Q7"
   ]
  },
  {
   "cell_type": "markdown",
   "metadata": {},
   "source": [
    "**ניצור סקטרפלוט עם הקורלציה החזקה שקיבלנו קודם וננצבע אותו לפי השנים**"
   ]
  },
  {
   "cell_type": "code",
   "execution_count": null,
   "metadata": {},
   "outputs": [],
   "source": [
    "plt.figure(figsize = (10,6))\n",
    "sns.set(style='darkgrid',font_scale=1.6)\n",
    "\n",
    "sns.scatterplot(data=data ,x=\"total_sold\", y=\"Total Bags\",hue=\"year\",palette=\"deep\")"
   ]
  },
  {
   "cell_type": "markdown",
   "metadata": {},
   "source": [
    "---\n",
    "# GOOD LUCK !!!!\n",
    "---"
   ]
  },
  {
   "cell_type": "code",
   "execution_count": null,
   "metadata": {},
   "outputs": [],
   "source": [
    "# do not type below this line"
   ]
  },
  {
   "cell_type": "markdown",
   "metadata": {},
   "source": [
    "# project 1 "
   ]
  },
  {
   "cell_type": "code",
   "execution_count": null,
   "metadata": {},
   "outputs": [],
   "source": []
  },
  {
   "cell_type": "code",
   "execution_count": null,
   "metadata": {},
   "outputs": [],
   "source": [
    "import pandas as pd\n",
    "import seaborn as sns\n",
    "import numpy as np\n",
    "import matplotlib.pyplot as plt\n",
    "from IPython.core.display import Image"
   ]
  },
  {
   "cell_type": "code",
   "execution_count": null,
   "metadata": {},
   "outputs": [],
   "source": [
    "url = \"https://raw.githubusercontent.com/Edens25/oscar_final/main/oscar_fill_final.csv\"\n",
    "df = pd.read_csv(url ,encoding= 'unicode_escape')\n",
    "df.head(3)"
   ]
  },
  {
   "cell_type": "markdown",
   "metadata": {},
   "source": [
    "**Displays the column types**"
   ]
  },
  {
   "cell_type": "code",
   "execution_count": null,
   "metadata": {},
   "outputs": [],
   "source": [
    "df.dtypes"
   ]
  },
  {
   "cell_type": "markdown",
   "metadata": {},
   "source": [
    "**Presenting the connection between the various contests as can be seen the strongest connection is between Oscar_nominated and BAFTA_nominated meaning that whoever is nominated for an Oscar will usually also be nominated for BAFTA**"
   ]
  },
  {
   "cell_type": "code",
   "execution_count": null,
   "metadata": {},
   "outputs": [],
   "source": [
    "awards_data= df.iloc[:,34:54:4]\n",
    "corrs = awards_data.corr(method='spearman')\n",
    "corrs.style.background_gradient(cmap='coolwarm').set_properties(**{'font-size': '15pt'})"
   ]
  },
  {
   "cell_type": "markdown",
   "metadata": {},
   "source": [
    "**Presenting the distribution of Oscar films according to their genre**"
   ]
  },
  {
   "cell_type": "code",
   "execution_count": null,
   "metadata": {},
   "outputs": [],
   "source": [
    "fig=plt.figure(1, figsize = (30,6))\n",
    "sns.set(font_scale=2.4)\n",
    "plt.title(\"geners\",fontsize=45)\n",
    "sns.set(style='darkgrid')\n",
    "ax = sns.countplot(x=\"genre\", data=df,order = df['genre'].value_counts().index)\n",
    "plt.setp(ax.get_xticklabels(),fontsize=19)\n",
    "plt.xticks(fontsize=20)\n",
    "plt.show()"
   ]
  },
  {
   "cell_type": "markdown",
   "metadata": {},
   "source": [
    "**Displays the average and standard deviations of the films according to their rating. It can be seen that even though the average of the action genre is lower compared to most other averages, the movie with the highest rating is in the action genre.**"
   ]
  },
  {
   "cell_type": "code",
   "execution_count": null,
   "metadata": {},
   "outputs": [],
   "source": [
    "plt.figure(figsize = (20,7))\n",
    "sns.set(style='darkgrid')\n",
    "plt.title('Rating relative to genre',color = 'blue',fontsize = 34)\n",
    "plt.xticks(fontsize=14)\n",
    "plt.yticks(fontsize=14)\n",
    "sns.boxplot(x='genre',y='rate',data=df,palette='gist_ncar_r')"
   ]
  },
  {
   "cell_type": "markdown",
   "metadata": {},
   "source": [
    "**Revenue presentation in relation to the film genre. It can be seen that in the action genre there is a small amount of movies above the standard deviation that have gained very large revenues compared to the other movies in the same genre**"
   ]
  },
  {
   "cell_type": "code",
   "execution_count": null,
   "metadata": {},
   "outputs": [],
   "source": [
    "plt.figure(figsize = (20,7))\n",
    "sns.set(style='darkgrid')\n",
    "plt.title('gross relative to genre',color = 'blue',fontsize = 34)\n",
    "plt.xticks(fontsize=14)\n",
    "plt.yticks(fontsize=14)\n",
    "sns.boxplot(x='genre',y='gross',data=df,palette='gist_ncar_r')"
   ]
  },
  {
   "cell_type": "markdown",
   "metadata": {},
   "source": [
    "**Displays the length of the film in relation to the genre. Documentary films can be seen much shorter than films of any other genre**"
   ]
  },
  {
   "cell_type": "code",
   "execution_count": null,
   "metadata": {},
   "outputs": [],
   "source": [
    "plt.figure(figsize = (20,7))\n",
    "sns.set(style='darkgrid')\n",
    "plt.title('duration relative to genre',color = 'blue',fontsize = 34)\n",
    "plt.xticks(fontsize=14)\n",
    "plt.yticks(fontsize=14)\n",
    "sns.boxplot(x='genre',y='duration',data=df,palette='gist_ncar_r')"
   ]
  },
  {
   "cell_type": "markdown",
   "metadata": {},
   "source": [
    "**Presenting the distribution of the age of watching movies at the Oscars, as you can see, most of the films nominated for the Oscars and the various competitions are intended for teenagers.**"
   ]
  },
  {
   "cell_type": "code",
   "execution_count": null,
   "metadata": {},
   "outputs": [],
   "source": [
    "fig = plt.subplots(figsize=(9,5))\n",
    "sns.set()\n",
    "plt.title('certificate',fontsize=25,color = 'blue')\n",
    "sns.countplot(x=\"certificate\", data=df,order = df['certificate'].value_counts().index)"
   ]
  },
  {
   "cell_type": "markdown",
   "metadata": {},
   "source": [
    "**Presenting upward trends over the years relative to average revenue relative to average rating. As can be seen there has been an increase in the amount of revenue and the level of rating since 2010 we think it is related to the fact that awareness of the movies and the demand has increased and therefore the revenue and rating of the movies has increased**"
   ]
  },
  {
   "cell_type": "code",
   "execution_count": null,
   "metadata": {},
   "outputs": [],
   "source": [
    "pd.pivot_table(\n",
    "    df,index = ['year'], values = ['gross']\n",
    ").sort_values(by=['year'], ascending=False\n",
    ").plot(figsize=(15,7),xticks=(2000,2001,2002,2003,2004,2005,2006,2007,2008,2009,2010,2011,2012,2013,2014,2015,2016,2017,2018),title='gross in relation to years')\n",
    "pd.pivot_table(\n",
    "    df,index = ['year'], values = ['rate']\n",
    ").sort_values(by=['year'], ascending=False\n",
    " ).plot(figsize=(15,7),xticks=(2000,2001,2002,2003,2004,2005,2006,2007,2008,2009,2010,2011,2012,2013,2014,2015,2016,2017,2018),title='rate in relation to years')"
   ]
  },
  {
   "cell_type": "markdown",
   "metadata": {},
   "source": [
    "**Adding data to display information about the award winners**"
   ]
  },
  {
   "cell_type": "code",
   "execution_count": null,
   "metadata": {},
   "outputs": [],
   "source": [
    "url = 'https://github.com/XthebigdoX/oscarfinal/raw/main/oscar_win.xls'\n",
    "oscar_win= pd.read_csv(url)\n",
    "oscar_win.head()"
   ]
  },
  {
   "cell_type": "markdown",
   "metadata": {},
   "source": [
    "**Adding a small file outlining the age, sexual orientation, origin and more of the Oscar winners and presenting the distribution of religion among the winners**"
   ]
  },
  {
   "cell_type": "code",
   "execution_count": null,
   "metadata": {},
   "outputs": [],
   "source": [
    "oscar_reli=oscar_win[oscar_win['religion']!=\"Na\"]\n",
    "oscar_reli['religion'].value_counts()[:10].plot(kind='barh',figsize=(20,6))\n",
    "plt.yticks(fontsize=20)\n",
    "plt.xticks(fontsize=14)\n",
    "plt.title('Distribution of religions',color = 'blue',fontsize = 45)"
   ]
  },
  {
   "cell_type": "markdown",
   "metadata": {},
   "source": [
    "**Taking the two most common religions among Oscar winners and presenting them in relation to their general population in the world**"
   ]
  },
  {
   "cell_type": "code",
   "execution_count": null,
   "metadata": {},
   "outputs": [],
   "source": [
    "oscar_reli=oscar_win[oscar_win['religion']!=\"Na\"]\n",
    "top_2_reli=oscar_reli['religion'].value_counts().nlargest(2).to_dict()\n",
    "R_C_number_wins=list(top_2_reli.items())[0][1]\n",
    "J_number_wins=list(top_2_reli.items())[1][1]"
   ]
  },
  {
   "cell_type": "code",
   "execution_count": null,
   "metadata": {},
   "outputs": [],
   "source": [
    "total_jewish=int(17000000)\n",
    "total_R_C=int(1200000000)\n",
    "J_to_total=J_number_wins/total_jewish\n",
    "R_C_to_total=R_C_number_wins/total_R_C"
   ]
  },
  {
   "cell_type": "code",
   "execution_count": null,
   "metadata": {},
   "outputs": [],
   "source": [
    "df1={'religion':['jewish','Roman Catholic'],'number_of':[J_to_total,R_C_to_total]}\n",
    "data_best=pd.DataFrame(df1)"
   ]
  },
  {
   "cell_type": "code",
   "execution_count": null,
   "metadata": {},
   "outputs": [],
   "source": [
    "sns.set(style=\"darkgrid\")\n",
    "plt.figure(figsize=(8,6))\n",
    "plt.title('Number of winners in relation to the world population',color = 'blue',fontsize = 20)\n",
    "sns.barplot(x=\"religion\", y='number_of',data=data_best)\n",
    "plt.xticks(fontsize=17)\n",
    "plt.yticks(fontsize=14)\n",
    "plt.show()"
   ]
  },
  {
   "cell_type": "markdown",
   "metadata": {},
   "source": [
    "# project 2 "
   ]
  },
  {
   "cell_type": "code",
   "execution_count": null,
   "metadata": {},
   "outputs": [],
   "source": [
    "import pandas as pd\n",
    "import seaborn as sns\n",
    "import numpy as np\n",
    "import matplotlib.pyplot as plt\n",
    "\n",
    "\n",
    "import sklearn as sk\n",
    "from sklearn.model_selection import train_test_split\n",
    "from sklearn.tree import DecisionTreeRegressor"
   ]
  },
  {
   "cell_type": "markdown",
   "metadata": {},
   "source": [
    "**הצגת הנתונים - בוא נראה עם מה יש לנו עסק**"
   ]
  },
  {
   "cell_type": "code",
   "execution_count": null,
   "metadata": {},
   "outputs": [],
   "source": [
    "url = \"https://raw.githubusercontent.com/Elchbar96/project1/main/Blockbusters_2019-1977.csv\"\n",
    "df = pd.read_csv(url ,encoding= 'unicode_escape')\n",
    "df.head(3)"
   ]
  },
  {
   "cell_type": "code",
   "execution_count": null,
   "metadata": {},
   "outputs": [],
   "source": [
    "df.tail(3)"
   ]
  },
  {
   "cell_type": "markdown",
   "metadata": {},
   "source": [
    "**העמודות המקוריות בדאטה היו בצורת אובייקט שינינו אותם לצורת אינטגר על מנת שנוכל לעבוד איתם**"
   ]
  },
  {
   "cell_type": "code",
   "execution_count": null,
   "metadata": {},
   "outputs": [],
   "source": [
    "df[\"film_budget\"] = df[\"film_budget\"].str.replace(\",\",\"\")\n",
    "df[\"domestic_gross\"] = df[\"domestic_gross\"].str.replace(\",\",\"\")\n",
    "df[\"worldwide_gross\"] = df[\"worldwide_gross\"].str.replace(\",\",\"\")\n",
    "df[\"film_budget\"] = df[\"film_budget\"].astype(\"int64\")\n",
    "df[\"domestic_gross\"] = df[\"domestic_gross\"].astype(\"int64\")\n",
    "df[\"worldwide_gross\"] = df[\"worldwide_gross\"].astype(\"int64\")\n",
    "df.dtypes"
   ]
  },
  {
   "cell_type": "markdown",
   "metadata": {},
   "source": [
    "**בוא נבדוק ערכים חסרים בדאטה ובאילו עמודות**"
   ]
  },
  {
   "cell_type": "code",
   "execution_count": null,
   "metadata": {},
   "outputs": [],
   "source": [
    "df.isna().sum()"
   ]
  },
  {
   "cell_type": "markdown",
   "metadata": {},
   "source": [
    "+ ניתן לראות שהדאטה שלנו שלמה ומלאה ברובה למעט שתי עמודות ז'אנר המשני שבהם גם ככה לא נתעסק"
   ]
  },
  {
   "cell_type": "markdown",
   "metadata": {},
   "source": [
    "**הצגת קורלאצייה כללית בין כל העמודות**"
   ]
  },
  {
   "cell_type": "code",
   "execution_count": null,
   "metadata": {},
   "outputs": [],
   "source": [
    "fig = plt.figure(1, figsize = (10,5))\n",
    "sns.set(font_scale=1.2)\n",
    "ax2 = sns.heatmap(df.corr(\"spearman\"),annot=True,cmap=\"Greens\")\n",
    "plt.show()"
   ]
  },
  {
   "cell_type": "markdown",
   "metadata": {},
   "source": [
    "**נרצה להבין את ההתפלגות בין הזאנרים של סרטים שוברי קופות**"
   ]
  },
  {
   "cell_type": "code",
   "execution_count": null,
   "metadata": {},
   "outputs": [],
   "source": [
    "fig=plt.figure(1, figsize = (20,6))\n",
    "sns.set(font_scale=2.4)\n",
    "plt.title(\"Geners\",fontsize=70)\n",
    "sns.set(style='darkgrid')\n",
    "ax = sns.countplot(x=\"genre_1\", data=df,order = df['genre_1'].value_counts().index)\n",
    "plt.setp(ax.get_xticklabels(),fontsize=19)\n",
    "plt.show()"
   ]
  },
  {
   "cell_type": "markdown",
   "metadata": {},
   "source": [
    "+ ניתן לראות שיש 5 זאנרים ששולטים בשוק באופן מובהק וזאנר האקשן שולט באופן משמעותי"
   ]
  },
  {
   "cell_type": "markdown",
   "metadata": {},
   "source": [
    "\n",
    "**הבנת ההתפלגות בין חברות הפקת הסרטים**"
   ]
  },
  {
   "cell_type": "code",
   "execution_count": null,
   "metadata": {},
   "outputs": [],
   "source": [
    "plt.figure(1, figsize = (25,5))\n",
    "plt.title(\"Distributor\",fontsize=70)\n",
    "sns.set(style='darkgrid',font_scale=3.9)\n",
    "\n",
    "ax = sns.countplot(x=\"domestic_distributor\",\n",
    "                   data=df,\n",
    "                   order = df['domestic_distributor'].value_counts().index\n",
    "                  )\n",
    "\n",
    "plt.setp(ax.get_xticklabels(), rotation=70,fontsize=21)\n",
    "plt.show()"
   ]
  },
  {
   "cell_type": "markdown",
   "metadata": {},
   "source": [
    "+ ניתן לראות שקיימות חברות אשר זכו פעמים אחדות להיכנס לרשימת סרטי שוברי הקופות וחברות שסרטיהם זוכים להיות שוברי קופות במספרים גבוהים"
   ]
  },
  {
   "cell_type": "markdown",
   "metadata": {},
   "source": [
    "**על מנת לנתח את ההכנסות הוספנו עמודה של הכנסות נטו ועמודה של אחוזי רווח לסרט**"
   ]
  },
  {
   "cell_type": "code",
   "execution_count": null,
   "metadata": {},
   "outputs": [],
   "source": [
    "df[\"net_profit\"] = df[\"worldwide_gross\"] - df[\"film_budget\"]\n",
    "df[\"precent_profit\"]=(df[\"net_profit\"]*100)/df[\"film_budget\"]\n",
    "df.head(3)"
   ]
  },
  {
   "cell_type": "markdown",
   "metadata": {},
   "source": [
    "**?האם יש קשר בין הכנסות הסרט במדינת המקור לבין הכנסותיו בעולם**"
   ]
  },
  {
   "cell_type": "code",
   "execution_count": null,
   "metadata": {},
   "outputs": [],
   "source": [
    "plt.figure(1,figsize=(15,5))\n",
    "sns.set(font_scale=1.6)\n",
    "plt.title('world profits - domestic profits',fontsize=30)\n",
    "sns.regplot(data=df,x=\"domestic_gross\",y=\"worldwide_gross\")"
   ]
  },
  {
   "cell_type": "markdown",
   "metadata": {},
   "source": [
    "+ נין לראות שיש קשר חזק בין הכנסות הסרט במדינה שלו לעומת הכנסות הסרט בעולם"
   ]
  },
  {
   "cell_type": "markdown",
   "metadata": {},
   "source": [
    "**?האם ככל שנשקיע יותר בתקציב הסרט ההכנסות העולמיות שלנו יגדלו**"
   ]
  },
  {
   "cell_type": "code",
   "execution_count": null,
   "metadata": {},
   "outputs": [],
   "source": [
    "plt.figure(1,figsize=(15,5))\n",
    "plt.title('world profits - the budget',fontsize=30)\n",
    "plt.xlim(0,2.5*(10**8))\n",
    "sns.regplot(data=df,x=\"film_budget\",y=\"worldwide_gross\")"
   ]
  },
  {
   "cell_type": "markdown",
   "metadata": {},
   "source": [
    "+ ניתן לראות קשר יחסית חזק בין תקציב הסרט לבין הכנסותיו בעולם "
   ]
  },
  {
   "cell_type": "markdown",
   "metadata": {},
   "source": [
    "**רווחים נטו בממוצע לסרט - בהתפלגות לפי ז'אנרים**"
   ]
  },
  {
   "cell_type": "code",
   "execution_count": null,
   "metadata": {},
   "outputs": [],
   "source": [
    "geners = pd.pivot_table(\n",
    "df,index = ['genre_1'], values = ['net_profit']\n",
    ").sort_values(by=['net_profit'], ascending = False)\n",
    "geners.plot(kind='bar',figsize=(20,6))"
   ]
  },
  {
   "cell_type": "markdown",
   "metadata": {},
   "source": [
    "+ ניתן לראות שהרווח נטו בממוצע לסרט הגבוה ביותר הוא לסרטי משפחה עם זאת עדיין מוקדם להגיע למסקנות - במיוחד שבדקו לפי ממוצע "
   ]
  },
  {
   "cell_type": "markdown",
   "metadata": {},
   "source": [
    "**אחוז רווח במוצע לחברת הפקות**"
   ]
  },
  {
   "cell_type": "code",
   "execution_count": null,
   "metadata": {},
   "outputs": [],
   "source": [
    "precentprofit = pd.pivot_table(\n",
    "    df,index = ['domestic_distributor'], values = ['precent_profit']\n",
    ").sort_values(by=['precent_profit'], ascending = False).head(7)\n",
    "sns.set(font_scale=1.3)\n",
    "precentprofit.plot(kind='bar', color=[plt.cm.Accent(np.arange(len(precentprofit)))],title='company - precentprofit',figsize=(20,6))"
   ]
  },
  {
   "cell_type": "markdown",
   "metadata": {},
   "source": [
    "**אם נוריד את כל החברות החד פעמיות - נוכל לקבל תמונה יותר ריאלית**"
   ]
  },
  {
   "cell_type": "code",
   "execution_count": null,
   "metadata": {},
   "outputs": [],
   "source": [
    "df1 = df.domestic_distributor.value_counts() > 10\n",
    "l = df1.head(9).index.tolist()\n",
    "df67= df[df['domestic_distributor'].isin(l)]\n",
    "\n",
    "precentprofit2 = pd.pivot_table(\n",
    "    df67,index = ['domestic_distributor'], values = ['precent_profit']\n",
    ").sort_values(by=['precent_profit'], ascending = False)\n",
    "\n",
    "precentprofit2.plot(kind = 'bar',color=[plt.cm.Paired(np.arange(len(precentprofit2)))],title='company - precentprofit', figsize=(15,7))\n"
   ]
  },
  {
   "cell_type": "markdown",
   "metadata": {},
   "source": [
    "+ ניתן לראות שחברת פאראמאונט מככבת והיא אכן בין החברות הגדולות בז'אנר"
   ]
  },
  {
   "cell_type": "markdown",
   "metadata": {},
   "source": [
    "**סכום כולל של חברה**"
   ]
  },
  {
   "cell_type": "code",
   "execution_count": null,
   "metadata": {},
   "outputs": [],
   "source": [
    "sns.set(font_scale=1.8)\n",
    "company_sum = pd.pivot_table(\n",
    "    df,index = ['domestic_distributor'], values = ['net_profit'],aggfunc='sum'\n",
    ").sort_values(by=['net_profit'], ascending = False\n",
    "             ).head(10)\n",
    "company_sum.plot(kind='bar',color=[plt.cm.Paired(np.arange(len(company_sum)))],title='company - netprofit', figsize=(20,6))"
   ]
  },
  {
   "cell_type": "markdown",
   "metadata": {},
   "source": [
    "**סכום כולל של חברה לחברות שהגיעו מעל 10 פעמיים לשוברי הקופות**"
   ]
  },
  {
   "cell_type": "code",
   "execution_count": null,
   "metadata": {},
   "outputs": [],
   "source": [
    "df1 = df.domestic_distributor.value_counts() > 10\n",
    "l = df1.head(9).index.tolist()\n",
    "df67= df[df['domestic_distributor'].isin(l)]\n",
    "data = df67.groupby('domestic_distributor')[['net_profit']].sum().sort_values(by=['net_profit'],ascending = False)\n",
    "data.plot(kind='bar',color=[plt.cm.Set2(np.arange(len(data)))],title='company - netprofit',figsize=(20,6))"
   ]
  },
  {
   "cell_type": "markdown",
   "metadata": {},
   "source": [
    "+ מעניין לראות את ההבדל בין המרוויחים הגדולים לבין המרוויחים הגדולים שהופיעו מעל 10 פעמים באופן כללי- מעניין לראות שיש שינוי ויש חברות שהופיעו פחות אבל הרוויחו יותר באופן כללי (ניתן ליחס זאת לשנים שהחברות פעלו בהם ולדירוג שהן הגיעו אליו)\n",
    "+ ניתן לראות שוולט דיסני נמאת בפער משמעותי מעל כל שאר החברות - גם את הפער המשעומתי בין המקום הראשון למקום השני (למרות שאין הבדל משמעותי בכמות המופעים) ניתן לייחס לשנים החזקות של החברה ומתי היא פרצה"
   ]
  },
  {
   "cell_type": "markdown",
   "metadata": {},
   "source": [
    "**בוא נסתכל איך הרווחים השתנו במהלך השנים**"
   ]
  },
  {
   "cell_type": "code",
   "execution_count": null,
   "metadata": {},
   "outputs": [],
   "source": [
    "plt.figure(figsize = (28,14))\n",
    "sns.set(style='darkgrid',font_scale=1.4)\n",
    "plt.title('netprofit across the years',fontsize=40)\n",
    "sns.boxplot(x='release_year',y='net_profit',data=df,palette='gist_ncar_r')"
   ]
  },
  {
   "cell_type": "markdown",
   "metadata": {},
   "source": [
    "+ ניתן לראות שכלל שמתקדמים בשנים הרווחים נטו עולים - מתחבר עם המסקנות וההשערות שהיו לנו מקודם  "
   ]
  },
  {
   "cell_type": "markdown",
   "metadata": {},
   "source": [
    "**דירוג שנתי לעומת הרווח נטו**"
   ]
  },
  {
   "cell_type": "code",
   "execution_count": null,
   "metadata": {},
   "outputs": [],
   "source": [
    "plt.figure(figsize = (10,5))\n",
    "sns.set(font_scale= 1.6)\n",
    "plt.title('netprofit - rank')\n",
    "ax = sns.boxplot(x='rank_in_year',y='net_profit',data=df,palette='gist_ncar_r')"
   ]
  },
  {
   "cell_type": "markdown",
   "metadata": {},
   "source": [
    "+ היינו בטוחים שנראה פערים יותר משמעותיים בהקשר של דירוג באותה שנה - מעניין לראות שאין כנראה הסיבה היא ששוברי קופות מוגדרים לפי הרווחים ברוטו"
   ]
  },
  {
   "cell_type": "markdown",
   "metadata": {},
   "source": [
    "**שיווק**"
   ]
  },
  {
   "cell_type": "markdown",
   "metadata": {},
   "source": [
    "**דירוג שנתי לעומת דירוג באתר אי אמ די בי**"
   ]
  },
  {
   "cell_type": "code",
   "execution_count": null,
   "metadata": {},
   "outputs": [],
   "source": [
    "df_rank_vs_rating = df.groupby(['rank_in_year'])['imdb_rating'].mean()\n",
    "plt.figure(figsize=(14,5))\n",
    "sns.lineplot(data=df_rank_vs_rating)\n",
    "plt.xlim(1,10)\n",
    "plt.title('imdb - rank')\n",
    "plt.plot(df_rank_vs_rating, 'g^')\n",
    "plt.show()"
   ]
  },
  {
   "cell_type": "markdown",
   "metadata": {},
   "source": [
    "+ אנחנו נרצה לקבל דירוג גבוה מהאייאמדיבי אנחנו רואים פה שאחוזי ההצלחה להתברג ב4 המקומות הראשונים מאוד תלוי בדירוג באתר עם זאת אחרי ה4 מקומות הראשונים הקשר בין הדירוג לבין האתר נחלש"
   ]
  },
  {
   "cell_type": "markdown",
   "metadata": {},
   "source": [
    "**דירוג שנתי לעומת תקציב הסרט**"
   ]
  },
  {
   "cell_type": "code",
   "execution_count": null,
   "metadata": {},
   "outputs": [],
   "source": [
    "df34 = df.groupby(['rank_in_year'])['film_budget'].mean()\n",
    "df34\n",
    "plt.figure(figsize=(10,5))\n",
    "sns.lineplot(data=df34)\n",
    "plt.xlim(1,10)\n",
    "plt.title('budget - rank')\n",
    "plt.plot(df34, 'g^')\n",
    "plt.show()"
   ]
  },
  {
   "cell_type": "markdown",
   "metadata": {},
   "source": [
    "+ ניתן לראות שיש קשר בין התקציב של הסרט לבין הדירוג השנתי - אם אנחנו רוצים להתברג במקומות הראשונים - כנראה שנצטרך להשקיע יותר כסף - באופן כללי ישנה מגמה בולטת במיוחד בין המקום הראשון ואפילו שני ושלישי לעומת השאר"
   ]
  },
  {
   "cell_type": "markdown",
   "metadata": {},
   "source": [
    "**שעוסקים בשיווק יהיה מעניין להסתכל על אורך השם של הסרט - כמה מילים הוא מכיל והאם יש קשר בין הדירוג השנתי לבין נתון זה. נציג את ההתפלגות הכללית למספר מילים בשם הסרט ולאחר מכן לפי דירוג**"
   ]
  },
  {
   "cell_type": "code",
   "execution_count": null,
   "metadata": {},
   "outputs": [],
   "source": [
    "df[\"words_num\"] = df[\"film_title\"].str.split().str.len()\n",
    "df.boxplot(\"words_num\")\n",
    "sns.set(font_scale=2.4)\n",
    "plt.figure(figsize = (20,8))\n",
    "sns.boxplot(x='rank_in_year',y='words_num',data=df,palette='gist_ncar_r')"
   ]
  },
  {
   "cell_type": "markdown",
   "metadata": {},
   "source": [
    "+ המסקנה שלנו שבערך 3 מילים לשם של סרט הוא החציון הכללי - אבל לסרט בדירוג במקום הראשון יש התפלגות גבוהה יותר. מצד שני נשים לב שלמקום הראשון יש פיזור הרבה יותר רחב מלשאר בצורה מפתיעה - היינו מצפים לשמות קצרים וקולעים "
   ]
  },
  {
   "cell_type": "markdown",
   "metadata": {},
   "source": [
    "**הצגה פשוטה על ידי טבלה**"
   ]
  },
  {
   "cell_type": "code",
   "execution_count": null,
   "metadata": {},
   "outputs": [],
   "source": [
    "pd.pivot_table(df,index = ['rank_in_year'], values = ['words_num']).sort_values(by=['words_num'], ascending=False)"
   ]
  },
  {
   "cell_type": "markdown",
   "metadata": {},
   "source": [
    "+ ניתן לראות איך המספרים משתנים ואיך יש סנכרון כמעט מושלם בין הדירוג למספר המילים בכותר"
   ]
  },
  {
   "cell_type": "markdown",
   "metadata": {},
   "source": [
    "**נסתכל לרגע על הדירוג השנתי בהתפלגות הזאנרים (ניקח רק את 5 הדומיננטים) - זהו ממוצע לכן הכי נמוך בעצם הגיע הכי גבוה**"
   ]
  },
  {
   "cell_type": "code",
   "execution_count": null,
   "metadata": {},
   "outputs": [],
   "source": [
    "newdf = df.loc[df['genre_1'].isin([\"Action\",\"Comedy\",\"Animation\",\"Adventure\",\"Drama\"])]\n",
    "sns.set(font_scale=1.5)\n",
    "rank_geners = pd.pivot_table(\n",
    "    newdf,index = ['genre_1'], values = ['rank_in_year']).sort_values(by=['rank_in_year'])\n",
    "rank_geners.plot(kind='bar',color=[plt.cm.Set3(np.arange(len(rank_geners)))],title='genre - rank',figsize=(15,5))"
   ]
  },
  {
   "cell_type": "markdown",
   "metadata": {},
   "source": [
    "+ דווקא זאנר ההרפתקאות שאמנם לא קיים כלכך באופן כללי - בדירוג השנתי הממוצע הוא מדורג גבוה יותר - אבל זה מהסיבה הפשוטה שהאקשן תופס הרבה מהמקומות ולכן הממוצע שלו נפגע. אבל ניתן להסיק שאם סרט מתחום ההרפתקאות יתברג ברשימה כנראה שיגיע גבוה. עם זאת ז'אנר האקשיין - הוא הכי   שכיח "
   ]
  },
  {
   "cell_type": "markdown",
   "metadata": {},
   "source": [
    "**נתון מעניין נוסף שנוכל להתמקד בו זה סיווג הסרט לפי גילאים ואיך הנתונים מתפלגים בהקשר זה**"
   ]
  },
  {
   "cell_type": "code",
   "execution_count": null,
   "metadata": {},
   "outputs": [],
   "source": [
    "fig = plt.subplots(figsize=(9,5))\n",
    "sns.set()\n",
    "plt.title('mpaa rating',fontsize=25)\n",
    "sns.countplot(x=\"mpaa_rating\", data=df,order = df['mpaa_rating'].value_counts().index)"
   ]
  },
  {
   "cell_type": "markdown",
   "metadata": {},
   "source": [
    "- ניתן לראות שהסרטים לגיאלי העשרה ומעלה הם הסרטים הכי שכיחים בשוברי הקופות"
   ]
  },
  {
   "cell_type": "markdown",
   "metadata": {},
   "source": [
    "**לסיכום**"
   ]
  },
  {
   "cell_type": "markdown",
   "metadata": {},
   "source": [
    "**התפלגות הסרטים לאורך השנים - בהתמקדות בארבעת הזאנרים הגדולים ביותר**"
   ]
  },
  {
   "cell_type": "code",
   "execution_count": null,
   "metadata": {},
   "outputs": [],
   "source": [
    "x = df.loc[df.genre_1 == 'Action']\n",
    "y = df.loc[df.genre_1 == 'Drama']\n",
    "z = df.loc[df.genre_1 == 'Comedy']\n",
    "t = df.loc[df.genre_1 == 'Adventure']\n",
    "p = df.loc[df.genre_1 == 'Animation']\n",
    "plt.figure(figsize = (14,5))\n",
    "plt.title('geners acroos the years',fontsize=25)\n",
    "plt.xlim(1977,2019)\n",
    "plt.hist(\n",
    "    (x['release_year'],y['release_year'],z['release_year'],t['release_year'],p['release_year'])\n",
    "    ,histtype='barstacked',\n",
    "    bins = 60, \n",
    "    label=('Action','Drama','Comedy','Adventure','Animation')\n",
    ")\n",
    "\n",
    "plt.legend(loc='lower right')"
   ]
  },
  {
   "cell_type": "markdown",
   "metadata": {},
   "source": [
    " +  כמו שחשבנו יש ז'אנרים שהביקוש שלהם גדל ממש במרוצת השנים וז'אנרים שהולכים ונעלמים(לדוג' זאנר הדרמה שנעלם בשנים האחרונות כמעט לגמרי)"
   ]
  },
  {
   "cell_type": "markdown",
   "metadata": {},
   "source": [
    "**נתמקד עכשיו בזאנרים בהתפלגות ביחס לדירוג השנתי מי כבש את המקומות הראשונים ומי שלט בכל מיקום**"
   ]
  },
  {
   "cell_type": "code",
   "execution_count": null,
   "metadata": {},
   "outputs": [],
   "source": [
    "x = df.loc[df.genre_1 == 'Action']\n",
    "y = df.loc[df.genre_1 == 'Drama']\n",
    "z = df.loc[df.genre_1 == 'Comedy']\n",
    "t = df.loc[df.genre_1 == 'Adventure']\n",
    "p = df.loc[df.genre_1 == 'Animation']\n",
    "plt.figure(figsize = (10,5))\n",
    "plt.xlim(1,10)\n",
    "plt.title(\"genres - rank\")\n",
    "plt.hist(\n",
    "    (x['rank_in_year'],y['rank_in_year'],z['rank_in_year'],t['rank_in_year'],p['rank_in_year'])\n",
    "    ,histtype='bar',\n",
    "    bins = 30, \n",
    "    label=('Action','Drama','Comedy','Adventure','Animation')\n",
    ")\n",
    "\n",
    "plt.legend(loc='upper right')"
   ]
  },
  {
   "cell_type": "markdown",
   "metadata": {},
   "source": [
    "+ מסקנה סופית: ניתן לראות בבירור שהאקשן שולט  בשוק שוברי הקופות באופן מוחלט- ויותר מכל כבש את המקום הראשון בצורה ברורה- גם לאורך השנים וגם בכלל הדירוגים  השונים"
   ]
  },
  {
   "cell_type": "markdown",
   "metadata": {},
   "source": [
    "**נבדוק את יחסי הכוחות בין החברות הבולטות לאורך השנים**"
   ]
  },
  {
   "cell_type": "code",
   "execution_count": null,
   "metadata": {},
   "outputs": [],
   "source": [
    "x = df[df['domestic_distributor'].str.contains(\"Walt Disney\")]\n",
    "y = df[df['domestic_distributor'].str.contains(\"Warner Bros.\")]\n",
    "z = df[df['domestic_distributor'].str.contains(\"Universal Pictures\")]\n",
    "t = df[df['domestic_distributor'].str.contains(\"Paramount Pictures\")]\n",
    "#p = df[df['domestic_distributor'].str.contains(\"Twentieth Century Fox\")]\n",
    "plt.figure(figsize = (19,9))\n",
    "plt.xlim(1977,2020)\n",
    "plt.title('company - across the years',fontsize=29)\n",
    "plt.hist(\n",
    "    (x['release_year'],y['release_year'],z['release_year'],t['release_year'])\n",
    "    ,histtype='bar',\n",
    "    bins = 30#I choose low number because its across a long period of time\n",
    "    ,label=('Walt Disney','Warner Bros.','Universal Pictures','Paramount Pictures')\n",
    ")\n",
    "plt.legend(loc='upper right')"
   ]
  },
  {
   "cell_type": "markdown",
   "metadata": {},
   "source": [
    "+ החברה ששולטת בשוק במגמה מאוד ברורה בשנים האחורנות  היא וולט דיסני - ניתן לראות שוולט דיסני גדלה על חשבן המתחרות החזקות בשוק-"
   ]
  },
  {
   "cell_type": "markdown",
   "metadata": {},
   "source": [
    "**נמתקד עכשיו בסיווג הסרטים - לאיזה גלאים סרטי השוברי קופות מתאימים והאם היה שינוי במהלך השנים**"
   ]
  },
  {
   "cell_type": "code",
   "execution_count": null,
   "metadata": {},
   "outputs": [],
   "source": [
    "#mpaa_rating\n",
    "x = df.loc[df.mpaa_rating == 'PG-13']\n",
    "y = df.loc[df.mpaa_rating == 'PG']\n",
    "z = df.loc[df.mpaa_rating == 'G']\n",
    "t = df.loc[df.mpaa_rating == 'R']\n",
    "plt.figure(figsize = (10,5))\n",
    "plt.xlim(1977,2019)\n",
    "plt.title('mpaa - across the years',fontsize=27)\n",
    "plt.hist(\n",
    "    (x['release_year'],y['release_year'],z['release_year'],t['release_year'])\n",
    "    ,histtype='barstacked',\n",
    "    bins = 60, \n",
    "    label=('PG-13','PG','G','R')\n",
    ")\n",
    "\n",
    "plt.legend(loc='lower right')"
   ]
  },
  {
   "cell_type": "markdown",
   "metadata": {},
   "source": [
    "+ ניתן לראות בבירור מגמה עולה של סרטים לגלאי העשרה על חשבון סרטי המבוגרים וסרטים לכלל הגילאים - נותן לנו כיוון לקהל יעד לסרט-"
   ]
  },
  {
   "cell_type": "markdown",
   "metadata": {},
   "source": [
    "**זום אין  על החברה המצליחה ביותר שלנו - וולט דיסני**"
   ]
  },
  {
   "cell_type": "code",
   "execution_count": null,
   "metadata": {},
   "outputs": [],
   "source": [
    "df1 = df[df['domestic_distributor'].str.contains(\"Walt Disney\")]\n",
    "x = df1.loc[df1.mpaa_rating == 'PG-13']\n",
    "y = df1.loc[df1.mpaa_rating == 'PG']\n",
    "z = df1.loc[df1.mpaa_rating == 'G']\n",
    "t = df1.loc[df1.mpaa_rating == 'R']\n",
    "sns.set(font_scale=1.9)\n",
    "plt.figure(figsize = (17,7))\n",
    "plt.xlim(1977,2019)\n",
    "plt.title('walt disney - mpaa',fontsize=27)\n",
    "plt.hist(\n",
    "    (x['release_year'],y['release_year'],z['release_year'],t['release_year'])\n",
    "    ,histtype='barstacked',\n",
    "    bins = 60, \n",
    "    label=('PG-13','PG','G','R')\n",
    ")\n",
    "\n",
    "plt.legend(loc='upper left')\n"
   ]
  },
  {
   "cell_type": "markdown",
   "metadata": {},
   "source": [
    "+ ניתן לראות שהחברה המצילחה ביותר הבינה את הנתון הקודם והתאימה את עצמה לביקוש "
   ]
  },
  {
   "cell_type": "markdown",
   "metadata": {},
   "source": [
    "**בוא נסתכל איזה קהל יעד כבש את המקומות הראשונים בעשרת השנים האחורונות**"
   ]
  },
  {
   "cell_type": "code",
   "execution_count": null,
   "metadata": {},
   "outputs": [],
   "source": [
    "df1 = df.loc[df['rank_in_year'] == 1]\n",
    "df2 = df1.loc[df1['release_year'] > 2009]\n",
    "df2"
   ]
  },
  {
   "cell_type": "markdown",
   "metadata": {},
   "source": [
    "+ ניתן לראות שסרטים לגיאלי העשרה קטפו את המקומות הראשונים הראשונים בשנים האחרונות"
   ]
  },
  {
   "cell_type": "markdown",
   "metadata": {},
   "source": [
    "\n",
    "# לסיכום: \n",
    "+ החברה השולטת והצומחת בשוק שאיתה נרצה לעבוד - וולט דיסני ללא צל של ספק\n",
    "+ הז'אנר השולט בשוק שנרצה להתמקד בו - סרטי האקשן \n",
    "+ קהל היעד שבו נרצה להתמקד - גילאי העשרה \n",
    "+  השאיפה היא לקבל דירוג גבוה באתר איאמדיבי  7.6 ומעלה על מנת לקטוף את המקום הראשון\n",
    "+ נרצה להשקיע הרבה בשיווק במדינה המקומית שבה מפורסם הסרט - דבר זה הוכיח בעבר שיוביל להצלחה עולמית\n",
    "+ "
   ]
  },
  {
   "cell_type": "markdown",
   "metadata": {},
   "source": [
    "**למה כדאי להשקיע בסרטים**"
   ]
  },
  {
   "cell_type": "code",
   "execution_count": null,
   "metadata": {},
   "outputs": [],
   "source": [
    "x = ['film_budget','worldwide_gross']\n",
    "df2 = df.groupby(['release_year'])[x].mean()\n",
    "plt.figure(figsize=(15,7))\n",
    "sns.lineplot(data=df2)\n",
    "sns.set(font_scale=1.1)\n",
    "plt.plot(df2['film_budget'], 'bo',df2['worldwide_gross'], 'g^')\n",
    "plt.show()\n"
   ]
  },
  {
   "cell_type": "markdown",
   "metadata": {},
   "source": [
    "- ניתן לראות שהתקציב עולה בקצב אחיד ואיטי יחסית בעוד ההכנסות עולות בקצב גבוה"
   ]
  }
 ],
 "metadata": {
  "kernelspec": {
   "display_name": "Python 3",
   "language": "python",
   "name": "python3"
  },
  "language_info": {
   "codemirror_mode": {
    "name": "ipython",
    "version": 3
   },
   "file_extension": ".py",
   "mimetype": "text/x-python",
   "name": "python",
   "nbconvert_exporter": "python",
   "pygments_lexer": "ipython3",
   "version": "3.8.5"
  }
 },
 "nbformat": 4,
 "nbformat_minor": 4
}
