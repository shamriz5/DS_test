{
 "cells": [
  {
   "cell_type": "markdown",
   "metadata": {},
   "source": [
    "# unit Eliran for the life "
   ]
  },
  {
   "cell_type": "markdown",
   "metadata": {},
   "source": [
    "## ספריות שלמדנו בכיתה"
   ]
  },
  {
   "cell_type": "code",
   "execution_count": 1,
   "metadata": {},
   "outputs": [],
   "source": [
    "import pandas as pd\n",
    "import numpy as np\n",
    "import matplotlib.pyplot as plt\n",
    "import seaborn as sns\n",
    "import sklearn as sk\n",
    "from sklearn import tree\n",
    "from sklearn.tree import DecisionTreeClassifier\n",
    "from sklearn.model_selection import train_test_split\n",
    "from sklearn.metrics import mean_squared_error as mse\n",
    "from sklearn import tree\n",
    "from sklearn.metrics import mean_squared_error as mse\n",
    "from sklearn.tree import DecisionTreeClassifier\n",
    "from sklearn.tree import DecisionTreeRegressor\n",
    "from sklearn.model_selection import train_test_split\n"
   ]
  },
  {
   "cell_type": "markdown",
   "metadata": {},
   "source": [
    "#### איך לקרוא קובץ"
   ]
  },
  {
   "cell_type": "code",
   "execution_count": 2,
   "metadata": {},
   "outputs": [],
   "source": [
    "#url = 'קישור של הקובץ אקסל שאותו אני רוצה לקרוא'\n",
    "#data = pd.read_csv(url)\n"
   ]
  },
  {
   "cell_type": "markdown",
   "metadata": {},
   "source": [
    "#### תיקון דאטה"
   ]
  },
  {
   "cell_type": "code",
   "execution_count": 3,
   "metadata": {},
   "outputs": [],
   "source": [
    "#data.columns = data.columns.str.replace(' ', '')\n",
    "\n",
    "#mrkt_df['Income'] = mrkt_df['Income'].str.replace('$', '')\n",
    "\n",
    "#mrkt_df['Income'] = mrkt_df['Income'].str.replace(',', '').astype('float') להפוך לסוג פלוט\n",
    "\n",
    "#data['publish_time'] = pd.to_datetime(data['publish_time']) - להפוך לסוג תאריך\n",
    "\n",
    "#dep_df['gender'] = dep_df['gender'].replace([1,2],['F','M']) #מחליפה את הערכים 1 ו2 בעמודה לאישה ואיש\n",
    "\n",
    "\n"
   ]
  },
  {
   "cell_type": "markdown",
   "metadata": {},
   "source": [
    "#### תרגיל עם משחק של שנה/חודש"
   ]
  },
  {
   "cell_type": "code",
   "execution_count": 4,
   "metadata": {},
   "outputs": [],
   "source": [
    "#chosen_region_16_new = chosen_region_16.copy()\n",
    "#chosen_region_16_new['month'] = pd.DatetimeIndex(chosen_region_16_new.Date).month\n",
    "#chosen_region_16_09 = chosen_region_16_new[chosen_region_16_new.month == 9]\n",
    "\n",
    "#print(\"The total of Total Bags in month 9 is - \")\n",
    "#print(chosen_region_16_09.TotalBags.sum().round(2))"
   ]
  },
  {
   "cell_type": "markdown",
   "metadata": {},
   "source": [
    "#### בדיקת דאטה"
   ]
  },
  {
   "cell_type": "code",
   "execution_count": 5,
   "metadata": {},
   "outputs": [],
   "source": [
    "#data.isnull().sum().sort_values(ascending=False) - האם יש ערכים חסרים וכמה וסידור שלהם לפי הגבוה לנמוך ואם נרשום טרו במקום הפלס אז זה יהיה מהנמוך לגבוה\n",
    "#data.dtypes - בדיקת הסוג של כל עמודה בקובץ שלנו והאם יש שם חריגות של רווחים או דברים מיותרים שנרצה להוריד\n",
    "#Insight1 = data.copy() - העתקה של הקובץ על מנת לא לשנות את הדאטה המקורית"
   ]
  },
  {
   "cell_type": "markdown",
   "metadata": {},
   "source": [
    "#### כמה שורות יש לי"
   ]
  },
  {
   "cell_type": "code",
   "execution_count": 6,
   "metadata": {},
   "outputs": [],
   "source": [
    "#print(\"The number of the rows in our chosen country's part is-\")\n",
    "#chosen_country['location'].count()"
   ]
  },
  {
   "cell_type": "markdown",
   "metadata": {},
   "source": [
    "#### חישובים "
   ]
  },
  {
   "cell_type": "code",
   "execution_count": 7,
   "metadata": {},
   "outputs": [],
   "source": [
    "#print(\"The mean of total_sold is - \")\n",
    "#print(chosen_region-שם הדאטה.total_sold-על מה אני רוצה לעשות את הפקודה.mean())\n",
    "#/median/mode\n",
    "\n",
    "#print(\"The total of Total Bags is - \") \n",
    "#print(chosen_region_16.TotalBags.sum()) סה\"כ"
   ]
  },
  {
   "cell_type": "markdown",
   "metadata": {},
   "source": [
    "#### פונקציית groupby \n",
    "לוקחת עפי מקום אחד או שניים,וסוכמת או סופרת את העמודות תלוי ברצון הדאטה אנליסט"
   ]
  },
  {
   "cell_type": "code",
   "execution_count": 8,
   "metadata": {},
   "outputs": [],
   "source": [
    "#chosen_country.groupby('location')[['total_vaccinations','people_vaccinated']].sum()- סכימה עפ\"י קיבוץ של משתנה אחד\n",
    "#avocado_data.groupby(['region', 'year'])['total_sold'].aggregate('sum').unstack().round(2)סכימה של השורות עפ\"י שני משתנים \n",
    "#chosen_country.groupby('location')[['total_vaccinations','people_vaccinated']].plot.hist(bins=20,alpha=0.5) - אפשר גם להראות בהיסטוגרמה עם שיקוף של שני המשתנים"
   ]
  },
  {
   "cell_type": "markdown",
   "metadata": {},
   "source": [
    "#### פיבוט טייבל"
   ]
  },
  {
   "cell_type": "code",
   "execution_count": 9,
   "metadata": {},
   "outputs": [],
   "source": [
    "#avocado_data.pivot_table('total_sold', index='region', columns=['year'], aggfunc='sum').round(2)\n"
   ]
  },
  {
   "cell_type": "markdown",
   "metadata": {},
   "source": [
    "####   הצגה ויזואלית של משתנים עפ\"י פאי עוגה ועפ\"י היסטוגרמות\n",
    "מומלץ בפאי עד 3 קטגוריות\n",
    "\n"
   ]
  },
  {
   "cell_type": "code",
   "execution_count": 10,
   "metadata": {},
   "outputs": [],
   "source": [
    "#plt.figure(1, figsize=(15,15)) - בניה של הפאי עצמו\n",
    "#plt.title(\"Age Distribution\") - כותרת\n",
    "#Insight1['age'].value_counts().plot.pie(autopct=\"%1.1f%%\") - עוגה עם אחוזים"
   ]
  },
  {
   "cell_type": "markdown",
   "metadata": {},
   "source": [
    "####   בידוד לוקיישן מסוים או משהו בסגנון עם הרבה נתונים ובידוד שלו כאשר רוצים לעבוד רק עליו\n"
   ]
  },
  {
   "cell_type": "code",
   "execution_count": 11,
   "metadata": {},
   "outputs": [],
   "source": [
    "#chosen_region=avocado_data[avocado_data.\"the title of the col\".str.contains(\"the name of the all the rows\")]\n",
    "#chosen_region_16 = chosen_region[chosen_region.year == 2016] - כאשר רוצים רק שנה מסוימת בתוך הדאטה החדשה\n"
   ]
  },
  {
   "cell_type": "markdown",
   "metadata": {},
   "source": [
    "##### עוד דוגמה של חיבור דאטות של שנים"
   ]
  },
  {
   "cell_type": "code",
   "execution_count": 12,
   "metadata": {},
   "outputs": [],
   "source": [
    "#data_copy['year'] = pd.DatetimeIndex(data_copy.publish_time).year\n",
    "#data_copy_2017 = data_copy[data_copy.year == 2017]\n",
    "#data_copy_2018 = data_copy[data_copy.year == 2018]\n",
    "#data_copy_2017_18 = pd.concat([data_copy_2017, data_copy_2018], axis=0)"
   ]
  },
  {
   "cell_type": "markdown",
   "metadata": {},
   "source": [
    "#### קורלציה כללית"
   ]
  },
  {
   "cell_type": "code",
   "execution_count": 13,
   "metadata": {},
   "outputs": [],
   "source": [
    "#features = ['age', 'gender',..... ]\n",
    "#corrs = Insight1[features].corr(method = 'kendall')\n",
    "#plt.figure(figsize=(15,10))  #figure size\n",
    "#sns.heatmap(corrs, cmap='coolwarm', center=0, annot = True);"
   ]
  },
  {
   "cell_type": "markdown",
   "metadata": {},
   "source": [
    "#### המשך קורלציה "
   ]
  },
  {
   "cell_type": "code",
   "execution_count": 14,
   "metadata": {},
   "outputs": [],
   "source": [
    "#features = ['likes','dislikes','views','comment_count']\n",
    "#corrs = data[features].corr(method = 'spearman').round(2) בטבלה\n",
    "#sns.heatmap(corrs, cmap='coolwarm', center=0, annot = True) יצירת מפת חום\n"
   ]
  },
  {
   "cell_type": "markdown",
   "metadata": {},
   "source": [
    "#### scatterplot"
   ]
  },
  {
   "cell_type": "code",
   "execution_count": 15,
   "metadata": {},
   "outputs": [],
   "source": [
    "#sns.scatterplot(data=data, x='likes', y='views') \n",
    "#sns.scatterplot(x = \"age\", y = \"expenses\", data = insurance, hue = \"sex\")\n",
    "#plt.xlabel(\"Age\")\n",
    "#plt.ylabel(\"expenses\")\n",
    "#plt.title(\"The strongest correlation according to the year\")"
   ]
  },
  {
   "cell_type": "markdown",
   "metadata": {},
   "source": [
    "#### ויזואליציה=היסטוגרמה בין שני משתנים "
   ]
  },
  {
   "cell_type": "code",
   "execution_count": 16,
   "metadata": {},
   "outputs": [],
   "source": [
    "#plt.hist(insurance['expenses'],bins = 100 , color = 'red') \n",
    "#plt.show()\n",
    "\n"
   ]
  },
  {
   "cell_type": "markdown",
   "metadata": {},
   "source": [
    "#### ויזואליזציה השוואה בין שני משתנים "
   ]
  },
  {
   "cell_type": "code",
   "execution_count": 17,
   "metadata": {},
   "outputs": [],
   "source": [
    "#sns.barplot(data=data, x='type', y='total_sold')"
   ]
  },
  {
   "cell_type": "markdown",
   "metadata": {},
   "source": [
    "#### הפיכה של עמודה בתור סטרינג למספרים שאפשר לעבוד איתם"
   ]
  },
  {
   "cell_type": "code",
   "execution_count": 18,
   "metadata": {},
   "outputs": [],
   "source": [
    "#data_nba['Height'] = data_nba['Height'].astype('category').cat.codes.astype('float') - הוספת עמודה חדשה עם המסקנות\n",
    "#data_nba[['Age','Height','Weight','Salary']].head(3)\n",
    "\n",
    "# for each delta of '0.2',the category is raising by '2.0'\n",
    "# example:\n",
    "## 6.2 => 6.0 , 6.6 => 10.0 , 6.5=> 9.0"
   ]
  },
  {
   "cell_type": "code",
   "execution_count": 19,
   "metadata": {},
   "outputs": [],
   "source": [
    "#avocado_data['type'] = avocado_data['type'].astype('category').cat.codes.astype('int') - שינוי של העמודה עצמה"
   ]
  },
  {
   "cell_type": "markdown",
   "metadata": {},
   "source": [
    "#### במידה ויש ערכים חסרים באחת העמודות , השלימו אותם בעזרת חציון/ממוצע/שיטה אחרת\n",
    "מתאימה"
   ]
  },
  {
   "cell_type": "code",
   "execution_count": 20,
   "metadata": {},
   "outputs": [],
   "source": [
    "#data.isnull().sum().sort_values(ascending=False) - בדיקת ערכים חסרים"
   ]
  },
  {
   "cell_type": "code",
   "execution_count": 21,
   "metadata": {},
   "outputs": [],
   "source": [
    "#max_null=pd.isnull(chosen_country).sum().idxmax()\n",
    "#value=pd.isnull(chosen_country).sum().max()\n",
    "#print(\"the couloum with most 'null' values is - \")\n",
    "#print(max_null,\"\\n\")\n",
    "#print(\"The ammount of this values is - \")\n",
    "#print(value)\n",
    "# בדקנו כמה את המקסימום של ערכים חסרים שיש לנו בעמודה, והדפסנו את השם של העמודה עם הכי הרבה ערכים חסרים וגם את המספר שלה."
   ]
  },
  {
   "cell_type": "code",
   "execution_count": 22,
   "metadata": {},
   "outputs": [],
   "source": [
    "#empty_row=chosen_country.loc[chosen_country.daily_vaccinations.isnull()==True]\n",
    "#empty_row - בדקנו איפה יש ערכים חסרים\n"
   ]
  },
  {
   "cell_type": "code",
   "execution_count": 23,
   "metadata": {},
   "outputs": [],
   "source": [
    "#empty_row_copy = empty_row.copy()\n",
    "#empty_row_copy['daily_vaccinations'].fillna(0 , inplace = True) מילוי הערכים החסרים ב0\n"
   ]
  },
  {
   "cell_type": "markdown",
   "metadata": {},
   "source": [
    "#### בניית מודל\n",
    "לפי רגרסור"
   ]
  },
  {
   "cell_type": "code",
   "execution_count": 24,
   "metadata": {},
   "outputs": [],
   "source": [
    "#avocado_data['region'] = avocado_data['region'].astype('category').cat.codes.astype('float')  - במקרה ויש לנו במודל סטרינג שאנחנו רוצים לשנות למספר\n",
    "#avocado_data[['Total Bags','AveragePrice','type','region']].tail()"
   ]
  },
  {
   "cell_type": "code",
   "execution_count": 25,
   "metadata": {},
   "outputs": [],
   "source": [
    "#features = ['Total Bags', 'AveragePrice','type','region']\n",
    "#X = avocado_data[features]\n",
    "#y = avocado_data['total_sold']\n",
    "#X_train, X_test, y_train, y_test = sk.model_selection.train_test_split(X, y, test_size=0.3, random_state=43) "
   ]
  },
  {
   "cell_type": "code",
   "execution_count": 26,
   "metadata": {},
   "outputs": [],
   "source": [
    "# Define model. Specify a number for random_state to ensure same results each run\n",
    "#avocado_data_model = DecisionTreeRegressor(random_state=43)\n",
    "\n",
    "# Fit model\n",
    "#avocado_data_model.fit(X_train, y_train)"
   ]
  },
  {
   "cell_type": "code",
   "execution_count": 27,
   "metadata": {},
   "outputs": [],
   "source": [
    "#prediction2 = avocado_data_model.predict(X_test)\n",
    "#prediction2 "
   ]
  },
  {
   "cell_type": "markdown",
   "metadata": {},
   "source": [
    "#### בניית מודל\n",
    "לפי כלאס "
   ]
  },
  {
   "cell_type": "code",
   "execution_count": 2,
   "metadata": {},
   "outputs": [],
   "source": [
    "#model1 = sk.tree.DecisionTreeClassifier(criterion=\"gini\")"
   ]
  },
  {
   "cell_type": "code",
   "execution_count": null,
   "metadata": {},
   "outputs": [],
   "source": [
    "#features = ['sepal_length', 'sepal_width', 'petal_length', 'petal_width']\n",
    "#X = iris_df[features]\n",
    "#y = iris_df['class']"
   ]
  },
  {
   "cell_type": "code",
   "execution_count": null,
   "metadata": {},
   "outputs": [],
   "source": [
    "#X_train, X_test, y_train, y_test = sk.model_selection.train_test_split(X, y, test_size=0.3, random_state=1) "
   ]
  },
  {
   "cell_type": "code",
   "execution_count": null,
   "metadata": {},
   "outputs": [],
   "source": [
    "#model1.fit(X, y)"
   ]
  },
  {
   "cell_type": "code",
   "execution_count": null,
   "metadata": {},
   "outputs": [],
   "source": []
  },
  {
   "cell_type": "markdown",
   "metadata": {},
   "source": [
    "###### accuracy-"
   ]
  },
  {
   "cell_type": "code",
   "execution_count": 28,
   "metadata": {},
   "outputs": [],
   "source": [
    "#def eval(x,y,model):\n",
    "#    pred = avocado_data_model.predict(x)\n",
    "#    y_alt=y.values\n",
    "#    print(\"Acc: {:.3f}\".format((pred == y_alt).mean()))\n",
    "#    print(\"MSE: {:.3f}\".format(mse(pred,y,squared=False)))   # note for CDR cat units\n",
    "#    print(\"Classified {:.3f}% as sick, where the in the true data {:.3f}% where sick.\".format(100*(pred>0).sum()/len(pred), 100*(y.values>0).sum()/len(y.values)) )  \n",
    "#eval(X_test,y_test,avocado_data_model)"
   ]
  }
 ],
 "metadata": {
  "kernelspec": {
   "display_name": "Python 3",
   "language": "python",
   "name": "python3"
  },
  "language_info": {
   "codemirror_mode": {
    "name": "ipython",
    "version": 3
   },
   "file_extension": ".py",
   "mimetype": "text/x-python",
   "name": "python",
   "nbconvert_exporter": "python",
   "pygments_lexer": "ipython3",
   "version": "3.8.5"
  }
 },
 "nbformat": 4,
 "nbformat_minor": 4
}
